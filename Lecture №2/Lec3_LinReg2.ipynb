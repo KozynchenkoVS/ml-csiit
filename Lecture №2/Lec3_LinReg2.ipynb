{
 "cells": [
  {
   "cell_type": "markdown",
   "metadata": {},
   "source": [
    "# Байесовская регрессия"
   ]
  },
  {
   "cell_type": "markdown",
   "metadata": {},
   "source": [
    "Функция, строящая плотности распределения весов с полученными коэффициентами:"
   ]
  },
  {
   "cell_type": "code",
   "execution_count": 278,
   "metadata": {},
   "outputs": [],
   "source": [
    "import numpy as np\n",
    "import matplotlib.pyplot as plt\n",
    "import random\n",
    "#Дано: x, y, N, d =1, m=0, sigma = 1\n",
    "#Сделать: построить апостериорное распределение весов в зависимости от числа объектов, которые используются для обучения\n",
    "def apostor(x, y, N,   d = 1, m = 0, sigma = 1):\n",
    "    #Подсчёт коэфф-ов по формулам, которые получились\n",
    "    e1 = -N / (2 * sigma * sigma) - 1 / (2 * d * d)  # w0^2\n",
    "    sum_x2 = 0\n",
    "    for i in range (N):\n",
    "        sum_x2 += x[i] * x[i]\n",
    "    e2 = -1 / (2 * sigma * sigma) * sum_x2 - 1 / (2 * d * d) # w1^2\n",
    "    sum_x = 0\n",
    "    for i in range (N):\n",
    "        sum_x += x[i]\n",
    "    e3 = 1 / (sigma * sigma) * sum_x # w0w1\n",
    "    sum_y = 0\n",
    "    for i in range (N):\n",
    "        sum_y += y[i]\n",
    "    e4 = 1 / (sigma * sigma) * sum_y + m / (d * d) # w0\n",
    "    sum_xy = 0\n",
    "    for i in range (N):\n",
    "        sum_xy += x[i] * y[i]\n",
    "    e5 = 1 / (sigma * sigma) * sum_xy + m / (d * d) # w1\n",
    "    #вычисление Ро и сигма по формулам, которые получились\n",
    "    rho = e3 / (2 * np.sqrt(e1 * e2))\n",
    "    sigma1 = 1 / np.sqrt(-e1 * 2 * (1 - rho * rho))\n",
    "    sigma2 = 1 / np.sqrt(-e2 * 2 * (1 - rho * rho))\n",
    "    #Подсчитываем a, b, c по данным формулам\n",
    "    a = -1 / (2 * (1 - rho * rho)) * 1 / (sigma1 * sigma1)\n",
    "    b = -1 / (2 * (1 - rho * rho)) * 1 / (sigma2 * sigma2)\n",
    "    c = 1 / (2 * (1 - rho * rho)) * 2 * rho / (sigma1 * sigma2)\n",
    "    #составляем систему уравнений с мю1 и мю2\n",
    "    A = [[-2 * a, -c],\n",
    "         [-2 * b, -c]]\n",
    "    B = [e4, e5]\n",
    "    #получаем мю\n",
    "    mu = np.linalg.solve(A, B)\n",
    "    #определяем ковариацию для подсчёта апостериорного распределения\n",
    "    cov = [[sigma1 * sigma1, rho], [rho, sigma2 * sigma2]]\n",
    "    #считаем распределение\n",
    "    w = np.random.multivariate_normal(mu, cov, N).T\n",
    "    \n",
    "    return w"
   ]
  },
  {
   "cell_type": "markdown",
   "metadata": {},
   "source": [
    "Задаем данные, используя уравнение y=5*x + 6"
   ]
  },
  {
   "cell_type": "code",
   "execution_count": 279,
   "metadata": {},
   "outputs": [],
   "source": [
    "N = 700\n",
    "x = np.linspace(1, 3, N)\n",
    "y_true = 5 * x + 6\n",
    "#Добавляем шум к данным\n",
    "y = y_true + np.random.normal(0,1, N)"
   ]
  },
  {
   "cell_type": "markdown",
   "metadata": {},
   "source": [
    "Просемлируем несколько значений весов из полученного апостериорного распределения и построим предсказания (линии регересии на некотором интервале)."
   ]
  },
  {
   "cell_type": "code",
   "execution_count": 280,
   "metadata": {},
   "outputs": [
    {
     "name": "stderr",
     "output_type": "stream",
     "text": [
      "C:\\Users\\A13C~1\\AppData\\Local\\Temp/ipykernel_13504/2530271444.py:42: RuntimeWarning: covariance is not positive-semidefinite.\n",
      "  w = np.random.multivariate_normal(mu, cov, N).T\n"
     ]
    },
    {
     "data": {
      "image/png": "[encoded data removed]",
      "text/plain": [
       "<Figure size 432x288 with 1 Axes>"
      ]
     },
     "metadata": {
      "needs_background": "light"
     },
     "output_type": "display_data"
    }
   ],
   "source": [
    "#Полученное распределение\n",
    "res_pred = apostor(x, y, N)\n",
    "#построим десять линий\n",
    "for i in range (10):\n",
    "    #выбираем случайные из полученных весов\n",
    "    r = random.randrange(N-1)\n",
    "    #составляем предсказание\n",
    "    y_pred = res_pred[0][r] + x * res_pred[1][r]\n",
    "    #линия регрессии\n",
    "    plt.plot(x, y_pred, color='green')\n",
    "#распределение y_true\n",
    "plt.scatter(x, y, color='red')\n",
    "plt.show()"
   ]
  },
  {
   "cell_type": "markdown",
   "metadata": {},
   "source": [
    " По мере увеличения количества точек данных неопределенность должна уменьшаться, что свидетельствует о более высоком уровне достоверности в оценке."
   ]
  }
 ],
 "metadata": {
  "interpreter": {
   "hash": "c7ae76e1573011856ab1655d278900ce52d206b792fb15be6c371407d48b6425"
  },
  "kernelspec": {
   "display_name": "Python 3.9.7 64-bit",
   "language": "python",
   "name": "python3"
  },
  "language_info": {
   "codemirror_mode": {
    "name": "ipython",
    "version": 3
   },
   "file_extension": ".py",
   "mimetype": "text/x-python",
   "name": "python",
   "nbconvert_exporter": "python",
   "pygments_lexer": "ipython3",
   "version": "3.9.7"
  },
  "orig_nbformat": 4
 },
 "nbformat": 4,
 "nbformat_minor": 2
}
