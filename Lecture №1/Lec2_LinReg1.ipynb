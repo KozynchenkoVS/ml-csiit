{
 "cells": [
  {
   "cell_type": "markdown",
   "metadata": {},
   "source": [
    "# 1 Overfitting/Underfitting"
   ]
  },
  {
   "cell_type": "markdown",
   "metadata": {},
   "source": [
    "## 1. Разбить выборку на train/test в некотором соотношении."
   ]
  },
  {
   "cell_type": "code",
   "execution_count": 1,
   "metadata": {},
   "outputs": [],
   "source": [
    "import numpy as np\n",
    "import matplotlib.pyplot as plt\n",
    "from sklearn.model_selection import train_test_split\n",
    "\n",
    "N = 150\n",
    "\n",
    "x = np.linspace(0, 7, N)\n",
    "y_true = 2 * np.sin(x)\n",
    "\n",
    "y = y_true + np.random.normal(0, 1, len(y_true))\n",
    "\n",
    "x_train, x_test, y_train, y_test = train_test_split(x, y, test_size=0.33, random_state=42)\n"
   ]
  },
  {
   "cell_type": "markdown",
   "metadata": {},
   "source": [
    "## 2. Вычислить для различных значений $d$ (степень полинома) MSE на train/test. Построить кривые MSE для train/test при различных значениях $d$."
   ]
  },
  {
   "cell_type": "markdown",
   "metadata": {},
   "source": [
    "Модели для посчета различных MSE:"
   ]
  },
  {
   "cell_type": "code",
   "execution_count": 2,
   "metadata": {},
   "outputs": [
    {
     "name": "stderr",
     "output_type": "stream",
     "text": [
      "C:\\Users\\Лавандос\\AppData\\Local\\Programs\\Python\\Python39\\lib\\site-packages\\IPython\\core\\interactiveshell.py:3444: RankWarning: Polyfit may be poorly conditioned\n",
      "  exec(code_obj, self.user_global_ns, self.user_ns)\n",
      "C:\\Users\\Лавандос\\AppData\\Local\\Programs\\Python\\Python39\\lib\\site-packages\\IPython\\core\\interactiveshell.py:3444: RankWarning: Polyfit may be poorly conditioned\n",
      "  exec(code_obj, self.user_global_ns, self.user_ns)\n"
     ]
    }
   ],
   "source": [
    "model = np.poly1d(np.polyfit(x_train, y_train, 3))\n",
    "\n",
    "y_pred_train = model(x_train)\n",
    "y_pred_test = model(x_test)\n",
    "\n",
    "y_train_true = 2 * np.sin(x_train)\n",
    "y_test_true = 2 * np.sin(x_test)\n",
    "\n",
    "model50 = np.poly1d(np.polyfit(x_train, y_train, 50))\n",
    "y_pred_train_50 = model50(x_train)\n",
    "y_pred_test_50 = model50(x_test)\n",
    "y_train_true_50 = 2 * np.sin(x_train)\n",
    "y_test_true_50 = 2 * np.sin(x_test)\n",
    "\n",
    "model100 = np.poly1d(np.polyfit(x_train, y_train, 100))\n",
    "y_pred_train_100 = model100(x_train)\n",
    "y_pred_test_100 = model100(x_test)\n",
    "y_train_true_100 = 2 * np.sin(x_train)\n",
    "y_test_true_100 = 2 * np.sin(x_test)\n",
    "\n"
   ]
  },
  {
   "cell_type": "markdown",
   "metadata": {},
   "source": [
    "Подсчет MSE:"
   ]
  },
  {
   "cell_type": "code",
   "execution_count": 3,
   "metadata": {},
   "outputs": [
    {
     "name": "stdout",
     "output_type": "stream",
     "text": [
      "Train 0.14429220783764538\n",
      "Test = 0.14429220783764538\n",
      "Train 0.31437323599498124\n",
      "Test = 0.31437323599498124\n",
      "Train 0.32673675126511065\n",
      "Test = 0.32673675126511065\n"
     ]
    }
   ],
   "source": [
    "def MSE(y_true, y):\n",
    "    Q = 0\n",
    "    for i in range(len(y)):\n",
    "        Q += (y_true[i] - y[i]) * (y_true[i] - y[i])\n",
    "    return Q / len(y)\n",
    "\n",
    "MSE_train = np.zeros(3)\n",
    "MSE_test = np.zeros(3)\n",
    "\n",
    "MSE_train[0]= MSE(y_train_true, y_pred_train)\n",
    "MSE_train[0]= MSE(y_test_true, y_pred_test)\n",
    "print('Train ' + str(MSE_train[0]))\n",
    "print('Test = ' + str(MSE_train[0]))\n",
    "\n",
    "MSE_train[1]= MSE(y_train_true_50, y_pred_train_50)\n",
    "MSE_test[1] = MSE(y_test_true_50, y_pred_test_50)\n",
    "print('Train ' + str(MSE_train[1]))\n",
    "print('Test = ' + str(MSE_train[1]))\n",
    "\n",
    "MSE_train[2] = MSE(y_train_true_100, y_pred_train_100)\n",
    "MSE_test[2]= MSE(y_test_true_100, y_pred_test_100)\n",
    "print('Train ' + str(MSE_train[2]))\n",
    "print('Test = ' + str(MSE_train[2]))\n"
   ]
  },
  {
   "cell_type": "code",
   "execution_count": 4,
   "metadata": {},
   "outputs": [
    {
     "data": {
      "text/plain": [
       "[<matplotlib.lines.Line2D at 0x124f3195bb0>]"
      ]
     },
     "execution_count": 4,
     "metadata": {},
     "output_type": "execute_result"
    },
    {
     "data": {
      "image/png": "[encoded data removed]",
      "text/plain": [
       "<Figure size 432x288 with 1 Axes>"
      ]
     },
     "metadata": {
      "needs_background": "light"
     },
     "output_type": "display_data"
    }
   ],
   "source": [
    "plt.plot([3, 50, 100], MSE_train, c='green')\n",
    "plt.plot([3, 50, 100], MSE_test, c='red')"
   ]
  },
  {
   "cell_type": "markdown",
   "metadata": {},
   "source": [
    "## 3. Как изменяется качество модели, если в нее добавить больше данных (увеличить $N$)? Привести несколько примеров."
   ]
  },
  {
   "cell_type": "markdown",
   "metadata": {},
   "source": [
    "Происходит переобучение"
   ]
  },
  {
   "cell_type": "markdown",
   "metadata": {},
   "source": [
    "## 4. Какие выводы можно сделать из пунктов 2 и 3. Как влияет сложность модели и количество данных на переобучение (overfitting)?"
   ]
  },
  {
   "cell_type": "markdown",
   "metadata": {},
   "source": [
    "# 1) При увеличении сложности модели происходит переобучение. \n",
    "# 2) При увеличении данных переобучение уменьшается."
   ]
  },
  {
   "cell_type": "markdown",
   "metadata": {},
   "source": [
    "# Коэффициент детерминации $R^2$"
   ]
  },
  {
   "cell_type": "markdown",
   "metadata": {},
   "source": [
    "Код для вычисления $R^2$:"
   ]
  },
  {
   "cell_type": "code",
   "execution_count": 5,
   "metadata": {},
   "outputs": [],
   "source": [
    "def m(y):\n",
    "    ysum = 0\n",
    "    for i in range(len(y)):\n",
    "        ysum += y[i]\n",
    "    return ysum / len(y)\n",
    "\n",
    "\n",
    "def denum(y):\n",
    "    sumDen = 0\n",
    "    ym = m(y)\n",
    "    for i in range(len(y)):\n",
    "        sumDen += (y[i] - ym) * (y[i] - ym)\n",
    "    return sumDen\n",
    "\n",
    "\n",
    "def R2(y_true, y):\n",
    "    num = MSE(y_true, y) * len(y)\n",
    "    den = denum(y_true)\n",
    "    return 1 - num / den\n"
   ]
  },
  {
   "cell_type": "markdown",
   "metadata": {},
   "source": [
    "## 1. Определить $R^2$ для различных $d$. Сделать выводы."
   ]
  },
  {
   "cell_type": "code",
   "execution_count": 6,
   "metadata": {},
   "outputs": [
    {
     "name": "stdout",
     "output_type": "stream",
     "text": [
      "R2 для d=3 : -0.9564308768706229\n",
      "R2 для d=50 : -0.7691517446558633\n",
      "R2 для d=100 : -0.012815699408075032\n"
     ]
    }
   ],
   "source": [
    "print(\"R2 для d=3 : \" + str(R2(y_pred_test, y[:len(y_test_true)])))\n",
    "print(\"R2 для d=50 : \" + str(R2(y_pred_test_50, y[:len(y_test_true_50)])))\n",
    "print(\"R2 для d=100 : \" + str(R2(y_pred_test_100, y[:len(y_test_true_50)])))\n"
   ]
  },
  {
   "cell_type": "markdown",
   "metadata": {},
   "source": [
    "Такие значения R2 получаются из-за того, что модель не совсем подходит для обучения."
   ]
  },
  {
   "cell_type": "markdown",
   "metadata": {},
   "source": [
    "## 2. Ранее было указано, что одним из простых baseline для нашей задачи, может быть выборочнее среднее. Расмотрим модель, которая для всех объектов возвращает константное значение (полином нулевой степени): $\\hat{y} (x) = w_0$. Аналитически определить параметры модели ($w_0$), минимизирующие MSE."
   ]
  },
  {
   "cell_type": "markdown",
   "metadata": {},
   "source": [
    "## 3. Определить аналогично baseline для MAE."
   ]
  },
  {
   "cell_type": "markdown",
   "metadata": {},
   "source": [
    "# 2. Linear models"
   ]
  },
  {
   "cell_type": "markdown",
   "metadata": {},
   "source": [
    "## 1. Regression"
   ]
  },
  {
   "cell_type": "markdown",
   "metadata": {},
   "source": [
    "### Для одномерного случая ($D=1$, $\\hat{y} = w_0 + w_1x$) найти вид выражений для $\\textbf{w}^* = (w_0^*, w_1^*)$, минимизирующее MSE."
   ]
  },
  {
   "cell_type": "markdown",
   "metadata": {},
   "source": [
    "### Используя нормальное уравнение линейной регресси, найти значение $\\textbf{w}^*$."
   ]
  },
  {
   "cell_type": "markdown",
   "metadata": {},
   "source": [
    "## 2.1 Gradient descent"
   ]
  },
  {
   "cell_type": "markdown",
   "metadata": {},
   "source": [
    "### Реализовать метод градиентного спуска для одной из указанных функций"
   ]
  },
  {
   "cell_type": "markdown",
   "metadata": {},
   "source": [
    "Функция Химмельблау:"
   ]
  },
  {
   "cell_type": "code",
   "execution_count": 7,
   "metadata": {},
   "outputs": [],
   "source": [
    "def f(x):\n",
    "    x, y = x[0], x[1]\n",
    "    return (x[0] * x[0] + x[1] - 11) ** 2 + (x[0] + x[1] * x[1] - 7) ** 2\n",
    "\n",
    "def grad(x): \n",
    "    grad_x = 4 * x[0] * x[0] * x[0] + 4 * x[0] * x[1] - 42 * x[0] + 2 * x[1] * x[1] - 14\n",
    "    grad_y = -26 * x[1] + 2 * x[0] * x[0] - 22 + 4 * x[1] * x[1] * x[1] + 4 * x[0] * x[1]\n",
    "    return np.array([grad_x, grad_y])\n",
    "    \n",
    "def grad_desc(x0, grad):\n",
    "    for i in range (1, 1000):\n",
    "        x0 = x0 - grad(x0) * 0.001\n",
    "    return x0"
   ]
  },
  {
   "cell_type": "markdown",
   "metadata": {},
   "source": [
    "Тесты"
   ]
  },
  {
   "cell_type": "code",
   "execution_count": 8,
   "metadata": {},
   "outputs": [
    {
     "name": "stdout",
     "output_type": "stream",
     "text": [
      "[3. 2.]\n",
      "[-3.77931025 -3.28318599]\n"
     ]
    }
   ],
   "source": [
    "print(grad_desc([0, 0], grad))\n",
    "print(grad_desc([-5, -5], grad))"
   ]
  },
  {
   "cell_type": "markdown",
   "metadata": {},
   "source": [
    "### Определить вид градиента в случае MSE. Применить метод градиентного спуска для поиска весов линейной регрессии для представленных выше данных. Построить график зависимости эмпирического риска $Q(\\textbf{w}^{(k)})$ от шага $k$. Сравнить с точным решением."
   ]
  },
  {
   "cell_type": "code",
   "execution_count": 9,
   "metadata": {},
   "outputs": [],
   "source": [
    "#ГРАДИЕНТ МSE\n",
    "def dMSEdw_1(x, y, w, i, k):\n",
    "    sum = 0\n",
    "    for j in range(len(w)):\n",
    "        sum += w[j] * x[i][j]\n",
    "    sub = (y[i] - sum) * x[i][k]\n",
    "    return sub\n",
    "\n",
    "def dMSEdw(x, y, w, k):\n",
    "    d = 0\n",
    "    for i in range(len(y)):\n",
    "        d += dMSEdw_1(x, y, w, i, k)\n",
    "    d *= (-2.0/len(y))\n",
    "    return d\n",
    "\n",
    "def grad_mse(X, y, w):\n",
    "    grad = np.zeros((len(w), 1))\n",
    "    for i in range(len(w)):\n",
    "        grad[i] = dMSEdw(X, y, w, i)\n",
    "    return grad\n",
    "\n",
    "# ГРАДИЕНТНЫЙ СПУСК\n",
    "def exit(P, P_pred, eps):\n",
    "    fl = False\n",
    "    for i in range(len(P)):\n",
    "        if abs(P[i] - P_pred[i]) < eps:\n",
    "            fl = True\n",
    "    return fl\n",
    "\n",
    "def grad_desc(X, y, w, k, f):\n",
    "    eps = 0.00001\n",
    "    a = 1 / 1000\n",
    "    P = np.copy(w)\n",
    "    P_pred = np.copy(w)\n",
    "    P -= a * f(X, y, w)\n",
    "    while k > 0:\n",
    "        if exit(P, P_pred, eps):\n",
    "            break\n",
    "        P_pred = np.copy(P)\n",
    "        P -= a * f(X, y, w)\n",
    "        k -= 1\n",
    "    return P\n",
    "\n",
    "#нормальное ур-ие лин.регр\n",
    "def n_eq(X, y):\n",
    "    x_transpose = np.transpose(X)\n",
    "    x_res = np.matmul(np.linalg.inv(np.matmul(x_transpose, X)), x_transpose)\n",
    "    return np.matmul(x_res, y)"
   ]
  },
  {
   "cell_type": "markdown",
   "metadata": {},
   "source": [
    "Находим w с помощью линейной регрессии:"
   ]
  },
  {
   "cell_type": "code",
   "execution_count": 10,
   "metadata": {},
   "outputs": [
    {
     "name": "stdout",
     "output_type": "stream",
     "text": [
      "[[-2.33911245]\n",
      " [-2.09640362]\n",
      " [ 2.30677293]]\n"
     ]
    }
   ],
   "source": [
    "import random\n",
    "\n",
    "N = 10\n",
    "D = 2\n",
    "X = np.random.uniform(0, 1, (N, D))\n",
    "\n",
    "D += 1\n",
    "x_ones = np.ones((N, 1))\n",
    "X = np.hstack((x_ones, X))\n",
    "\n",
    "w_true = np.random.uniform(-5, 10, (D, 1))\n",
    "\n",
    "y = X@w_true\n",
    "\n",
    "w = n_eq(X, y)\n",
    "\n",
    "#Добавим шум и найдём w с помощью GD\n",
    "P = w + np.random.normal(0, len(w))\n",
    "\n",
    "print(grad_desc(X, y, P, 30, grad_mse))\n",
    "\n",
    "size = 100\n",
    "\n",
    "k = np.zeros((size, 1))\n",
    "Qk = np.zeros((size, 1))\n",
    "\n",
    "for i in range (size):\n",
    "    k[i] = i\n",
    "    Qk[i] = MSE(w_true, grad_desc(X, y, P, i, grad_mse))"
   ]
  },
  {
   "cell_type": "markdown",
   "metadata": {},
   "source": [
    "## 2.2 Stochastic gradient descent (SGD)"
   ]
  },
  {
   "cell_type": "markdown",
   "metadata": {},
   "source": [
    "### Применить метод стохастического градиентного спуска для поиска весов линейной регрессии (при разных размерах батча) для представленных выше данных. Построить график зависимости эмпирического риска $Q(w(k))$ от шага $k$. Сравнить скорость сходимости с методом градиентного спуска. Сравнить с точным решением."
   ]
  },
  {
   "cell_type": "markdown",
   "metadata": {},
   "source": [
    "Метод стохастического градиентного спуска:"
   ]
  },
  {
   "cell_type": "code",
   "execution_count": 11,
   "metadata": {},
   "outputs": [],
   "source": [
    "def sgd_mse(X, y, w):\n",
    "    N = len(y)\n",
    "    m = len(X[0])\n",
    "    d = 1\n",
    "    rand = random.sample(range(0, N), d)\n",
    "    y_new = np.zeros((d, 1))\n",
    "    X_new = np.zeros((d, m))\n",
    "    for i in range(d):\n",
    "        y_new[i] = y[rand[i]]\n",
    "        X_new[i] = X[rand[i]]\n",
    "    return grad_mse(X_new, y_new, w)"
   ]
  },
  {
   "cell_type": "markdown",
   "metadata": {},
   "source": [
    "Применяем метод:"
   ]
  },
  {
   "cell_type": "code",
   "execution_count": 12,
   "metadata": {},
   "outputs": [
    {
     "name": "stdout",
     "output_type": "stream",
     "text": [
      "[[-2.29108057]\n",
      " [-2.07073676]\n",
      " [ 2.31381829]]\n"
     ]
    }
   ],
   "source": [
    "print(grad_desc(X, y, P, 25, sgd_mse))\n",
    "\n",
    "k_sgd = np.zeros((size, 1))\n",
    "Qk_sgd = np.zeros((size, 1))\n",
    "\n",
    "for i in range (size):\n",
    "    k_sgd[i] = i\n",
    "    Qk_sgd[i] = MSE(w_true, grad_desc(X, y, P, i, sgd_mse))"
   ]
  },
  {
   "cell_type": "markdown",
   "metadata": {},
   "source": [
    "# Сравнение методов:\n",
    "# Красный - GD\n",
    "# Зелёный - SGD"
   ]
  },
  {
   "cell_type": "code",
   "execution_count": 13,
   "metadata": {},
   "outputs": [
    {
     "data": {
      "image/png": "[encoded data removed]",
      "text/plain": [
       "<Figure size 432x288 with 1 Axes>"
      ]
     },
     "metadata": {
      "needs_background": "light"
     },
     "output_type": "display_data"
    }
   ],
   "source": [
    "plt.plot(k, Qk, c='red')\n",
    "plt.plot(k_sgd, Qk_sgd, c='green')\n",
    "plt.show()"
   ]
  }
 ],
 "metadata": {
  "interpreter": {
   "hash": "c7ae76e1573011856ab1655d278900ce52d206b792fb15be6c371407d48b6425"
  },
  "kernelspec": {
   "display_name": "Python 3.9.7 64-bit",
   "language": "python",
   "name": "python3"
  },
  "language_info": {
   "codemirror_mode": {
    "name": "ipython",
    "version": 3
   },
   "file_extension": ".py",
   "mimetype": "text/x-python",
   "name": "python",
   "nbconvert_exporter": "python",
   "pygments_lexer": "ipython3",
   "version": "3.9.7"
  },
  "orig_nbformat": 4
 },
 "nbformat": 4,
 "nbformat_minor": 2
}
